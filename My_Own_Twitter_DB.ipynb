{
 "cells": [
  {
   "cell_type": "code",
   "execution_count": 2,
   "metadata": {},
   "outputs": [],
   "source": [
    "#Shengtao Lin, Tianhe Wang"
   ]
  },
  {
   "cell_type": "markdown",
   "metadata": {},
   "source": [
    "# Twitter Api"
   ]
  },
  {
   "cell_type": "code",
   "execution_count": 1,
   "metadata": {
    "scrolled": true
   },
   "outputs": [
    {
     "name": "stdout",
     "output_type": "stream",
     "text": [
      "Requirement already satisfied: tweepy in /Users/LINHTS/anaconda3/lib/python3.7/site-packages (3.8.0)\n",
      "Requirement already satisfied: six>=1.10.0 in /Users/LINHTS/anaconda3/lib/python3.7/site-packages (from tweepy) (1.12.0)\n",
      "Requirement already satisfied: requests>=2.11.1 in /Users/LINHTS/anaconda3/lib/python3.7/site-packages (from tweepy) (2.22.0)\n",
      "Requirement already satisfied: requests-oauthlib>=0.7.0 in /Users/LINHTS/anaconda3/lib/python3.7/site-packages (from tweepy) (1.2.0)\n",
      "Requirement already satisfied: PySocks>=1.5.7 in /Users/LINHTS/anaconda3/lib/python3.7/site-packages (from tweepy) (1.7.0)\n",
      "Requirement already satisfied: certifi>=2017.4.17 in /Users/LINHTS/anaconda3/lib/python3.7/site-packages (from requests>=2.11.1->tweepy) (2019.6.16)\n",
      "Requirement already satisfied: chardet<3.1.0,>=3.0.2 in /Users/LINHTS/anaconda3/lib/python3.7/site-packages (from requests>=2.11.1->tweepy) (3.0.4)\n",
      "Requirement already satisfied: idna<2.9,>=2.5 in /Users/LINHTS/anaconda3/lib/python3.7/site-packages (from requests>=2.11.1->tweepy) (2.8)\n",
      "Requirement already satisfied: urllib3!=1.25.0,!=1.25.1,<1.26,>=1.21.1 in /Users/LINHTS/anaconda3/lib/python3.7/site-packages (from requests>=2.11.1->tweepy) (1.24.2)\n",
      "Requirement already satisfied: oauthlib>=3.0.0 in /Users/LINHTS/anaconda3/lib/python3.7/site-packages (from requests-oauthlib>=0.7.0->tweepy) (3.1.0)\n"
     ]
    }
   ],
   "source": [
    "!pip install tweepy"
   ]
  },
  {
   "cell_type": "code",
   "execution_count": 65,
   "metadata": {},
   "outputs": [],
   "source": [
    "from tweepy.streaming import StreamListener\n",
    "from tweepy import OAuthHandler\n",
    "from tweepy import Stream"
   ]
  },
  {
   "cell_type": "code",
   "execution_count": 66,
   "metadata": {},
   "outputs": [],
   "source": [
    "#key and tokens\n",
    "#api key: bUvI6HoYH97pwjTmnMNAPTMTS\n",
    "#api secret key: Hp420vZADZ25NMR0sqEf4eVlYXVtUsyL4AhwgdAxTf2ssbr0in\n",
    "#access token: 1190435999551303680-vK990ORPT4tj7KU1TTkfOtARxNzLfz\n",
    "#Access Token Secret: 6KWkz1UYuCPvvGKk22AvMumRpwlA2kO8DlIVZ5KwpQtTK\n",
    "\n",
    "access_token = \"1190435999551303680-vK990ORPT4tj7KU1TTkfOtARxNzLfz\"\n",
    "access_token_secret = \"6KWkz1UYuCPvvGKk22AvMumRpwlA2kO8DlIVZ5KwpQtTK\"\n",
    "consumer_key = \"bUvI6HoYH97pwjTmnMNAPTMTS\"\n",
    "consumer_secret = \"Hp420vZADZ25NMR0sqEf4eVlYXVtUsyL4AhwgdAxTf2ssbr0in\""
   ]
  },
  {
   "cell_type": "code",
   "execution_count": 67,
   "metadata": {},
   "outputs": [],
   "source": [
    "import sys\n",
    "default_stdout = sys.stdout\n",
    "sys.stdout = open('AI-out', 'w')"
   ]
  },
  {
   "cell_type": "code",
   "execution_count": 68,
   "metadata": {},
   "outputs": [
    {
     "ename": "SystemExit",
     "evalue": "End",
     "output_type": "error",
     "traceback": [
      "An exception has occurred, use %tb to see the full traceback.\n",
      "\u001b[0;31mSystemExit\u001b[0m\u001b[0;31m:\u001b[0m End\n"
     ]
    }
   ],
   "source": [
    "class StdOutListener(StreamListener):\n",
    "    t_count=0\n",
    "    \n",
    "    def on_data(self, data):\n",
    "        print (data)\n",
    "        self.t_count += 1\n",
    "        \n",
    "        #stop by \n",
    "        if self.t_count >=12000:\n",
    "            sys.exit(\"End\")\n",
    "            \n",
    "        return True\n",
    "\n",
    "    def on_error(self, status):\n",
    "        print (status)\n",
    "    \n",
    "\n",
    "\n",
    "if __name__ == '__main__':\n",
    "\n",
    "    #This handles Twitter authetification and the connection to Twitter Streaming API\n",
    "    l = StdOutListener()\n",
    "    auth = OAuthHandler(consumer_key, consumer_secret)\n",
    "    auth.set_access_token(access_token, access_token_secret)\n",
    "    stream = Stream(auth, l)\n",
    "\n",
    "    #This line filter Twitter Streams to capture data by the keywords: 'python', 'javascript', 'ruby'\n",
    "    stream.filter(track=['#ArtificialIntelligence'],languages=[\"en\"])"
   ]
  },
  {
   "cell_type": "code",
   "execution_count": 70,
   "metadata": {},
   "outputs": [],
   "source": [
    "sys.stdout = default_stdout"
   ]
  },
  {
   "cell_type": "code",
   "execution_count": 30,
   "metadata": {},
   "outputs": [
    {
     "name": "stdout",
     "output_type": "stream",
     "text": [
      "24000\n"
     ]
    }
   ],
   "source": [
    "import json\n",
    "count=0\n",
    "with open(\"AI-out\", \"r\") as f1:\n",
    "    for line in f1:\n",
    "        count+=1\n",
    "        try:\n",
    "            data = json.loads(line)\n",
    "            # if you want to see a specific field, you can print it. \n",
    "            #If your file is big, there may be too many of these printed\n",
    "            #print(data['text']) \n",
    "        except:\n",
    "            continue\n",
    "print(count)"
   ]
  },
  {
   "cell_type": "markdown",
   "metadata": {},
   "source": [
    "# DataBase create/insert"
   ]
  },
  {
   "cell_type": "code",
   "execution_count": 1,
   "metadata": {},
   "outputs": [],
   "source": [
    "#Database import\n",
    "import mysql.connector\n",
    "import pymongo\n",
    "from datetime import datetime\n",
    "import sys\n",
    "import json"
   ]
  },
  {
   "cell_type": "code",
   "execution_count": 2,
   "metadata": {},
   "outputs": [],
   "source": [
    "mydbsql = mysql.connector.connect(\n",
    "  host=\"localhost\",\n",
    "  user=\"root\",\n",
    "  password=\"12345678\",\n",
    "  database=\"TwitterDB\"\n",
    ")"
   ]
  },
  {
   "cell_type": "code",
   "execution_count": 3,
   "metadata": {},
   "outputs": [],
   "source": [
    "mycursor = mydbsql.cursor(buffered=True)"
   ]
  },
  {
   "cell_type": "code",
   "execution_count": 63,
   "metadata": {},
   "outputs": [
    {
     "ename": "DatabaseError",
     "evalue": "1007 (HY000): Can't create database 'twitterdb'; database exists",
     "output_type": "error",
     "traceback": [
      "\u001b[1;31m---------------------------------------------------------------------------\u001b[0m",
      "\u001b[1;31mMySQLInterfaceError\u001b[0m                       Traceback (most recent call last)",
      "\u001b[1;32mc:\\users\\philw\\miniconda3\\lib\\site-packages\\mysql\\connector\\connection_cext.py\u001b[0m in \u001b[0;36mcmd_query\u001b[1;34m(self, query, raw, buffered, raw_as_string)\u001b[0m\n\u001b[0;32m    505\u001b[0m                 \u001b[0mquery\u001b[0m \u001b[1;33m=\u001b[0m \u001b[0mquery\u001b[0m\u001b[1;33m.\u001b[0m\u001b[0mencode\u001b[0m\u001b[1;33m(\u001b[0m\u001b[1;34m'utf-8'\u001b[0m\u001b[1;33m)\u001b[0m\u001b[1;33m\u001b[0m\u001b[1;33m\u001b[0m\u001b[0m\n\u001b[1;32m--> 506\u001b[1;33m             self._cmysql.query(query,\n\u001b[0m\u001b[0;32m    507\u001b[0m                                \u001b[0mraw\u001b[0m\u001b[1;33m=\u001b[0m\u001b[0mraw\u001b[0m\u001b[1;33m,\u001b[0m \u001b[0mbuffered\u001b[0m\u001b[1;33m=\u001b[0m\u001b[0mbuffered\u001b[0m\u001b[1;33m,\u001b[0m\u001b[1;33m\u001b[0m\u001b[1;33m\u001b[0m\u001b[0m\n",
      "\u001b[1;31mMySQLInterfaceError\u001b[0m: Can't create database 'twitterdb'; database exists",
      "\nDuring handling of the above exception, another exception occurred:\n",
      "\u001b[1;31mDatabaseError\u001b[0m                             Traceback (most recent call last)",
      "\u001b[1;32m<ipython-input-63-7b6cbe716c2a>\u001b[0m in \u001b[0;36m<module>\u001b[1;34m\u001b[0m\n\u001b[0;32m      1\u001b[0m \u001b[1;31m#create DATABASE\u001b[0m\u001b[1;33m\u001b[0m\u001b[1;33m\u001b[0m\u001b[1;33m\u001b[0m\u001b[0m\n\u001b[1;32m----> 2\u001b[1;33m \u001b[0mmycursor\u001b[0m\u001b[1;33m.\u001b[0m\u001b[0mexecute\u001b[0m\u001b[1;33m(\u001b[0m\u001b[1;34m\"CREATE DATABASE TwitterDB\"\u001b[0m\u001b[1;33m)\u001b[0m\u001b[1;33m\u001b[0m\u001b[1;33m\u001b[0m\u001b[0m\n\u001b[0m",
      "\u001b[1;32mc:\\users\\philw\\miniconda3\\lib\\site-packages\\mysql\\connector\\cursor_cext.py\u001b[0m in \u001b[0;36mexecute\u001b[1;34m(self, operation, params, multi)\u001b[0m\n\u001b[0;32m    267\u001b[0m \u001b[1;33m\u001b[0m\u001b[0m\n\u001b[0;32m    268\u001b[0m         \u001b[1;32mtry\u001b[0m\u001b[1;33m:\u001b[0m\u001b[1;33m\u001b[0m\u001b[1;33m\u001b[0m\u001b[0m\n\u001b[1;32m--> 269\u001b[1;33m             result = self._cnx.cmd_query(stmt, raw=self._raw,\n\u001b[0m\u001b[0;32m    270\u001b[0m                                          \u001b[0mbuffered\u001b[0m\u001b[1;33m=\u001b[0m\u001b[0mself\u001b[0m\u001b[1;33m.\u001b[0m\u001b[0m_buffered\u001b[0m\u001b[1;33m,\u001b[0m\u001b[1;33m\u001b[0m\u001b[1;33m\u001b[0m\u001b[0m\n\u001b[0;32m    271\u001b[0m                                          raw_as_string=self._raw_as_string)\n",
      "\u001b[1;32mc:\\users\\philw\\miniconda3\\lib\\site-packages\\mysql\\connector\\connection_cext.py\u001b[0m in \u001b[0;36mcmd_query\u001b[1;34m(self, query, raw, buffered, raw_as_string)\u001b[0m\n\u001b[0;32m    508\u001b[0m                                raw_as_string=raw_as_string)\n\u001b[0;32m    509\u001b[0m         \u001b[1;32mexcept\u001b[0m \u001b[0mMySQLInterfaceError\u001b[0m \u001b[1;32mas\u001b[0m \u001b[0mexc\u001b[0m\u001b[1;33m:\u001b[0m\u001b[1;33m\u001b[0m\u001b[1;33m\u001b[0m\u001b[0m\n\u001b[1;32m--> 510\u001b[1;33m             raise errors.get_mysql_exception(exc.errno, msg=exc.msg,\n\u001b[0m\u001b[0;32m    511\u001b[0m                                              sqlstate=exc.sqlstate)\n\u001b[0;32m    512\u001b[0m         \u001b[1;32mexcept\u001b[0m \u001b[0mAttributeError\u001b[0m\u001b[1;33m:\u001b[0m\u001b[1;33m\u001b[0m\u001b[1;33m\u001b[0m\u001b[0m\n",
      "\u001b[1;31mDatabaseError\u001b[0m: 1007 (HY000): Can't create database 'twitterdb'; database exists"
     ]
    }
   ],
   "source": [
    "#create DATABASE\n",
    "mycursor.execute(\"CREATE DATABASE TwitterDB\")"
   ]
  },
  {
   "cell_type": "code",
   "execution_count": 64,
   "metadata": {},
   "outputs": [],
   "source": [
    "#Create Table\n",
    "#mycursor.execute(\"USE TwitterDB\")\n",
    "mycursor.execute(\"CREATE TABLE IF NOT EXISTS user(\"+\n",
    "                 \"user_id VARCHAR(255) PRIMARY KEY,\"+\n",
    "                \"name VARCHAR(255),\"+\n",
    "                \"screen_name VARCHAR(255),\"+\n",
    "                \"location VARCHAR(255),\"+\n",
    "                \"description VARCHAR(255),\"+\n",
    "                \"followers_count INT NOT NULL,\"+\n",
    "                \"friends_count INT NOT NULL,\"+\n",
    "                \"listed_count INT NOT NULL,\"+\n",
    "                \"favourites_count INT NOT NULL,\"+\n",
    "                \"statuses_count INT NOT NULL,\"+\n",
    "                \"created_at DATETIME NOT NULL);\")"
   ]
  },
  {
   "cell_type": "code",
   "execution_count": 65,
   "metadata": {},
   "outputs": [],
   "source": [
    "mycursor.execute(\"CREATE TABLE IF NOT EXISTS post(\"+\n",
    "                 \"user_id VARCHAR(255) NOT NULL,\"+\n",
    "                 \"post_id VARCHAR(255) NOT NULL,\"+\n",
    "                 \"created_at DATETIME NOT NULL,\"+\n",
    "                 \"PRIMARY KEY (user_id, post_id),\"+\n",
    "                 \"FOREIGN KEY (user_id) REFERENCES user(user_id));\")"
   ]
  },
  {
   "cell_type": "code",
   "execution_count": 58,
   "metadata": {},
   "outputs": [],
   "source": [
    "#drop user table for test\n",
    "sql = \"DROP TABLE post\"\n",
    "mycursor.execute(sql)\n",
    "sql = \"DROP TABLE user\"\n",
    "mycursor.execute(sql)\n"
   ]
  },
  {
   "cell_type": "code",
   "execution_count": 4,
   "metadata": {},
   "outputs": [],
   "source": [
    "#MongoDB\n",
    "myclient = pymongo.MongoClient(\"mongodb://localhost:27017/\")"
   ]
  },
  {
   "cell_type": "code",
   "execution_count": 5,
   "metadata": {},
   "outputs": [],
   "source": [
    "#create database\n",
    "mydbmongo = myclient[\"TwitterDB\"]\n",
    "#create collection\n",
    "mycol = mydbmongo[\"Tweets\"]"
   ]
  },
  {
   "cell_type": "code",
   "execution_count": 67,
   "metadata": {},
   "outputs": [
    {
     "name": "stderr",
     "output_type": "stream",
     "text": [
      "<ipython-input-34-58ba63afac64>:91: DeprecationWarning: count is deprecated. Use Collection.count_documents instead.\n",
      "  if mycol.find({'_id': tweet_id}).limit(1).count() > 0:\n"
     ]
    }
   ],
   "source": [
    "#start loading\n",
    "#load function first\n",
    "\n",
    "with open(\"AI-out\", \"r\") as f1:\n",
    "    for line in f1:\n",
    "        \n",
    "        try:\n",
    "            data = json.loads(line)\n",
    "            #print(data['id'])\n",
    "            ProcessData(data) \n",
    "            \n",
    "        except OSError as err:\n",
    "            print(\"OS error: {0}\".format(err))\n",
    "        except ValueError:\n",
    "            pass\n",
    "        except:\n",
    "            print(\"Unexpected error:\", sys.exc_info()[0])\n",
    "            raise\n"
   ]
  },
  {
   "cell_type": "code",
   "execution_count": 30,
   "metadata": {},
   "outputs": [],
   "source": [
    "def ProcessData(data):\n",
    "    \n",
    "#-----------user infomation----------\n",
    "    #tweet user\n",
    "    if checkExist(data['user'][\"id\"]):\n",
    "        #already exist \n",
    "        updateUser(data['user'])\n",
    "    else:\n",
    "        #new user\n",
    "        createNewUser(data['user']) \n",
    "        \n",
    "        \n",
    "    #retweet user\n",
    "    if \"retweeted_status\" in data:\n",
    "        if checkExist(data['retweeted_status']['user'][\"id\"]):\n",
    "            #already exist\n",
    "            updateUser(data['retweeted_status']['user'])\n",
    "        else:\n",
    "            #new user\n",
    "            createNewUser(data['retweeted_status']['user'])\n",
    "            \n",
    "#------------post ----------------\n",
    "    newPost(data)\n",
    "    \n",
    "        \n",
    "    "
   ]
  },
  {
   "cell_type": "code",
   "execution_count": 31,
   "metadata": {},
   "outputs": [],
   "source": [
    "def checkExist(user_id):\n",
    "    idquery= \"SELECT COUNT(1) FROM user WHERE user_id = \"+str(user_id)+\";\"\n",
    "    mycursor.execute(idquery)\n",
    "    myresult = mycursor.fetchall()\n",
    "\n",
    "    if(myresult[0][0]!=0):\n",
    "        return True\n",
    "    else:\n",
    "        return False\n",
    "    "
   ]
  },
  {
   "cell_type": "code",
   "execution_count": 32,
   "metadata": {},
   "outputs": [],
   "source": [
    "def createNewUser(data):\n",
    "    user_id = data[\"id\"]\n",
    "    name = data[\"name\"]\n",
    "    screen_name=data[\"screen_name\"]\n",
    "    location = data[\"location\"]\n",
    "    description = data[\"description\"]\n",
    "    followers_count = data[\"followers_count\"]\n",
    "    friends_count = data[\"friends_count\"]\n",
    "    listed_count = data[\"listed_count\"]\n",
    "    favourites_count = data[\"favourites_count\"]\n",
    "    statuses_count = data[\"statuses_count\"]\n",
    "    \n",
    "    new_datetime = datetime.strftime(datetime.strptime(data[\"created_at\"],'%a %b %d %H:%M:%S +0000 %Y'), '%Y-%m-%d %H:%M:%S')\n",
    "    created_at = new_datetime\n",
    "    \n",
    "    sql = (\"INSERT INTO user (user_id, name, screen_name, location,\"+\n",
    "    \" description, followers_count, friends_count, listed_count, favourites_count, statuses_count, created_at)\"+\n",
    "    \" VALUES (%s, %s, %s, %s, %s, %s, %s, %s, %s, %s, %s)\")\n",
    "    val=(user_id,name,screen_name,location,description,int(followers_count)\n",
    "         ,int(friends_count),int(listed_count),int(favourites_count),int(statuses_count),created_at)\n",
    " \n",
    "    mycursor.execute(sql, val)\n",
    "    mydbsql.commit()"
   ]
  },
  {
   "cell_type": "code",
   "execution_count": 33,
   "metadata": {},
   "outputs": [],
   "source": [
    "def updateUser(data):\n",
    "    user_id = data[\"id\"]\n",
    "    name = data[\"name\"]\n",
    "    screen_name=data[\"screen_name\"]\n",
    "    location = data[\"location\"]\n",
    "    description = data[\"description\"]\n",
    "    followers_count = data[\"followers_count\"]\n",
    "    friends_count = data[\"friends_count\"]\n",
    "    listed_count = data[\"listed_count\"]\n",
    "    favourites_count = data[\"favourites_count\"]\n",
    "    statuses_count = data[\"statuses_count\"]\n",
    "    \n",
    "    sql = (\"UPDATE user SET name = %s, \"+\n",
    "    \"screen_name= %s, \"+\n",
    "    \"location= %s, \"+\n",
    "    \"description= %s, \"+\n",
    "    \"followers_count= %s, \"+\n",
    "    \"friends_count= %s, \"+\n",
    "    \"listed_count= %s, \"+\n",
    "    \"favourites_count= %s, \"+\n",
    "    \"statuses_count= %s \"+\n",
    "    \"WHERE user_id = %s\")\n",
    "    \n",
    "    \n",
    "    val = (name,screen_name,location,description,int(followers_count),\n",
    "           int(friends_count),int(listed_count),int(favourites_count),int(statuses_count),user_id)\n",
    "    #print(sql)\n",
    "    mycursor.execute(sql, val)\n",
    "    mydbsql.commit()"
   ]
  },
  {
   "cell_type": "code",
   "execution_count": 34,
   "metadata": {},
   "outputs": [],
   "source": [
    "def newPost(data):\n",
    "    if \"retweeted_status\" in data:\n",
    "        # it is a RT\n",
    "        RT = 1\n",
    "        \n",
    "        #for tweet\n",
    "        if \"extended_tweet\" in data:\n",
    "            #for tweet mongoDB\n",
    "            tweet_id = data['id']\n",
    "            text_full = data['extended_tweet']['full_text']\n",
    "            text=text_full.partition('RT')[0]\n",
    "            \n",
    "            hashtag = []\n",
    "            if(\"extended_tweet\" in data['retweeted_status']):\n",
    "                for ht in (data['retweeted_status']['extended_tweet']['entities']['hashtags']):\n",
    "                    hashtag.append(ht['text'])\n",
    "            else:\n",
    "                for ht in (data['retweeted_status']['entities']['hashtags']):\n",
    "                    hashtag.append(ht['text'])\n",
    "        \n",
    "            new_datetime = datetime.strftime(datetime.strptime(data[\"created_at\"],'%a %b %d %H:%M:%S +0000 %Y'), '%Y-%m-%d %H:%M:%S')\n",
    "            created_at = new_datetime\n",
    "        \n",
    "            quote_count=data['quote_count']\n",
    "            reply_count=data['reply_count']\n",
    "            retweet_count=data['retweet_count']\n",
    "            favorite_count=data['favorite_count']\n",
    "            \n",
    "            user_id=data['user']['id']\n",
    "            user_screen_name=data['user']['screen_name']\n",
    "            \n",
    "            rt_id=data['retweeted_status']['id']\n",
    "            \n",
    "        \n",
    "            mydict = { \"_id\": tweet_id,\"RT\":RT,\"text\":text,\"hashtag\":hashtag,\"created_at\":created_at,\n",
    "                      \"quote_count\":quote_count,\"reply_count\":reply_count,\"retweet_count\":retweet_count,\n",
    "                      \"favorite_count\":favorite_count,\"user_screen_name\":user_screen_name,\"rt_id\":rt_id}\n",
    "        \n",
    "            x = mycol.insert_one(mydict)\n",
    "        \n",
    "            #for post table mySQL\n",
    "        \n",
    "            sql = (\"INSERT INTO post (user_id, post_id, created_at) VALUES (%s, %s, %s)\")\n",
    "            val=(user_id,tweet_id,created_at)\n",
    "        \n",
    "            mycursor.execute(sql, val)\n",
    "            mydbsql.commit()\n",
    "        \n",
    "        else:\n",
    "            #for tweet mongoDB\n",
    "            tweet_id = data['id']\n",
    "            text_full = data['text']\n",
    "            text=text_full.partition('RT')[0]\n",
    "            \n",
    "            hashtag = []\n",
    "            if(\"extended_tweet\" in data['retweeted_status']):\n",
    "                for ht in (data['retweeted_status']['extended_tweet']['entities']['hashtags']):\n",
    "                    hashtag.append(ht['text'])\n",
    "            else:\n",
    "                for ht in (data['retweeted_status']['entities']['hashtags']):\n",
    "                    hashtag.append(ht['text'])\n",
    "        \n",
    "            new_datetime = datetime.strftime(datetime.strptime(data[\"created_at\"],'%a %b %d %H:%M:%S +0000 %Y'), '%Y-%m-%d %H:%M:%S')\n",
    "            created_at = new_datetime\n",
    "        \n",
    "            quote_count=data['quote_count']\n",
    "            reply_count=data['reply_count']\n",
    "            retweet_count=data['retweet_count']\n",
    "            favorite_count=data['favorite_count']\n",
    "            \n",
    "            user_screen_name=data['user']['screen_name']\n",
    "            rt_id=data['retweeted_status']['id']\n",
    "        \n",
    "            mydict = { \"_id\": tweet_id,\"RT\":RT,\"text\":text,\"hashtag\":hashtag,\"created_at\":created_at,\n",
    "                      \"quote_count\":quote_count,\"reply_count\":reply_count,\"retweet_count\":retweet_count,\n",
    "                      \"favorite_count\":favorite_count,\"user_screen_name\":user_screen_name,\"rt_id\":rt_id}\n",
    "        \n",
    "            x = mycol.insert_one(mydict)\n",
    "        \n",
    "            #for post table mySQL\n",
    "            user_id=data['user']['id']\n",
    "        \n",
    "            sql = (\"INSERT INTO post (user_id, post_id, created_at) VALUES (%s, %s, %s)\")\n",
    "            val=(user_id,tweet_id,created_at)\n",
    "        \n",
    "            mycursor.execute(sql, val)\n",
    "            mydbsql.commit()\n",
    "        \n",
    "        #for retweet\n",
    "        tweet_id = data['retweeted_status']['id']\n",
    "        if mycol.find({'_id': tweet_id}).limit(1).count() > 0:\n",
    "            # existed retweet\n",
    "            pass\n",
    "        else:\n",
    "            # new retweet\n",
    "            #print(data['retweeted_status'])\n",
    "            insertNewPost(data['retweeted_status'])\n",
    "        \n",
    "    else:\n",
    "        # not a RT\n",
    "        insertNewPost(data)\n",
    "        "
   ]
  },
  {
   "cell_type": "code",
   "execution_count": 35,
   "metadata": {},
   "outputs": [],
   "source": [
    "def insertNewPost(data):\n",
    "    if \"extended_tweet\" in data:\n",
    "        #for tweet mongoDB\n",
    "        tweet_id = data['id']\n",
    "        RT = 0\n",
    "        text = data['extended_tweet']['full_text']\n",
    "        hashtag = []\n",
    "        for ht in (data['extended_tweet']['entities']['hashtags']):\n",
    "            hashtag.append(ht['text'])\n",
    "        \n",
    "        new_datetime = datetime.strftime(datetime.strptime(data[\"created_at\"],'%a %b %d %H:%M:%S +0000 %Y'), '%Y-%m-%d %H:%M:%S')\n",
    "        created_at = new_datetime\n",
    "    \n",
    "        quote_count=data['quote_count']\n",
    "        reply_count=data['reply_count']\n",
    "        retweet_count=data['retweet_count']\n",
    "        favorite_count=data['favorite_count']\n",
    "            \n",
    "        user_id=data['user']['id']\n",
    "        user_screen_name=data['user']['screen_name']\n",
    "        \n",
    "        mydict = { \"_id\": tweet_id,\"RT\":RT,\"text\":text,\"hashtag\":hashtag,\"created_at\":created_at,\n",
    "                  \"quote_count\":quote_count,\"reply_count\":reply_count,\"retweet_count\":retweet_count,\n",
    "                  \"favorite_count\":favorite_count,\"user_screen_name\":user_screen_name}\n",
    "        \n",
    "        x = mycol.insert_one(mydict)\n",
    "        \n",
    "        #for post table mySQL\n",
    "        \n",
    "        sql = (\"INSERT INTO post (user_id, post_id, created_at) VALUES (%s, %s, %s)\")\n",
    "        val=(user_id,tweet_id,created_at)\n",
    "    \n",
    "        mycursor.execute(sql, val)\n",
    "        mydbsql.commit()\n",
    "        \n",
    "    else:\n",
    "        #for tweet mongoDB\n",
    "        tweet_id = data['id']\n",
    "        RT = 0\n",
    "        text = data['text']\n",
    "        hashtag = []\n",
    "        for ht in (data['entities']['hashtags']):\n",
    "            hashtag.append(ht['text'])\n",
    "        \n",
    "        new_datetime = datetime.strftime(datetime.strptime(data[\"created_at\"],'%a %b %d %H:%M:%S +0000 %Y'), '%Y-%m-%d %H:%M:%S')\n",
    "        created_at = new_datetime\n",
    "        \n",
    "        quote_count=data['quote_count']\n",
    "        reply_count=data['reply_count']\n",
    "        retweet_count=data['retweet_count']\n",
    "        favorite_count=data['favorite_count']\n",
    "            \n",
    "        user_screen_name=data['user']['screen_name']\n",
    "        \n",
    "        mydict = { \"_id\": tweet_id,\"RT\":RT,\"text\":text,\"hashtag\":hashtag,\"created_at\":created_at,\n",
    "                  \"quote_count\":quote_count,\"reply_count\":reply_count,\"retweet_count\":retweet_count,\n",
    "                  \"favorite_count\":favorite_count,\"user_screen_name\":user_screen_name}\n",
    "        \n",
    "        x = mycol.insert_one(mydict)\n",
    "        \n",
    "        #for post table mySQL\n",
    "        user_id=data['user']['id']\n",
    "        \n",
    "        sql = (\"INSERT INTO post (user_id, post_id, created_at) VALUES (%s, %s, %s)\")\n",
    "        val=(user_id,tweet_id,created_at)\n",
    "        \n",
    "        mycursor.execute(sql, val)\n",
    "        mydbsql.commit()\n"
   ]
  },
  {
   "cell_type": "markdown",
   "metadata": {},
   "source": [
    "# Search Engine"
   ]
  },
  {
   "cell_type": "code",
   "execution_count": 6,
   "metadata": {},
   "outputs": [],
   "source": [
    "import pandas as pd\n",
    "import time\n",
    "import numpy as np\n",
    "pd.set_option('display.max_rows', None)\n",
    "pd.set_option('display.max_columns', None)\n",
    "pd.set_option('display.width', None)\n",
    "pd.set_option('display.max_colwidth', -1)\n",
    "import re"
   ]
  },
  {
   "cell_type": "code",
   "execution_count": 8,
   "metadata": {},
   "outputs": [],
   "source": [
    "def main():\n",
    "    \n",
    "    search()"
   ]
  },
  {
   "cell_type": "code",
   "execution_count": 37,
   "metadata": {},
   "outputs": [],
   "source": [
    "global cache \n",
    "cache = Cache(10)"
   ]
  },
  {
   "cell_type": "code",
   "execution_count": 28,
   "metadata": {},
   "outputs": [],
   "source": [
    "def processPost(posts, key):\n",
    "    result=[]\n",
    "    for x in posts:\n",
    "        text=x['text']\n",
    "        created_at=x['created_at']\n",
    "        quote_count=x['quote_count']\n",
    "        reply_count=x['reply_count']\n",
    "        retweet_count=x['retweet_count']\n",
    "        favorite_count=x['favorite_count']\n",
    "        user_screen_name=x['user_screen_name']\n",
    "        RT=x['RT']\n",
    "        if RT==1:\n",
    "            rtid=x['rt_id']\n",
    "            myquery = { \"_id\": rtid }\n",
    "            mydoc = mycol.find(myquery)\n",
    "            for y in mydoc:\n",
    "                rt_text=y['text']\n",
    "                rt_name=y['user_screen_name']\n",
    "            text = str(text)+(\" @\")+str(rt_name)+(\" \")+str(rt_text)\n",
    "        result.append([user_screen_name,text,created_at,quote_count,reply_count,retweet_count,favorite_count])\n",
    "    df=pd.DataFrame(result,columns =[\"name\",\"text\",\"created_at\",\"#quote\",\"#reply\",\"#retweet\",\"#favorite\"])\n",
    "    \n",
    "    #setting cache\n",
    "    cache.put(key, df)\n",
    "    \n",
    "    l=len(df.index)\n",
    "    i=0\n",
    "    if l<=5:\n",
    "        print(df)\n",
    "    else:\n",
    "        while i+5<l:\n",
    "            print(df[i:i+5])\n",
    "            i=i+5\n",
    "            statement = input(\"Displaying 5 results with total \"+str(l)+\n",
    "                             \" results, enter 0 to exit, enter any other key to see more.\\n\")\n",
    "            if statement == '0':\n",
    "                break\n",
    "        print(df[i:l])\n",
    "    \n",
    "    \n",
    "            "
   ]
  },
  {
   "cell_type": "code",
   "execution_count": 30,
   "metadata": {},
   "outputs": [],
   "source": [
    "def searchWord(word):\n",
    "    t0 = time.time()\n",
    "    df = cache.get(word)\n",
    "    if type(df) != int:\n",
    "        cache.put(word, df)\n",
    "        t1 = time.time()\n",
    "        total = t1-t0\n",
    "        print(\"search time used: \"+ str(total))  \n",
    "        print(df)\n",
    "    else:\n",
    "        \n",
    "        result=[]\n",
    "        que=\".*\"+str(word)+\".*\"\n",
    "        #regular expression search\n",
    "        myquery = {\"text\": {\"$regex\" : re.compile(que)}}\n",
    "\n",
    "        mydoc = mycol.find(myquery).sort(\"retweet_count\", -1)\n",
    "        for y in mydoc:\n",
    "            result.append(y)\n",
    "\n",
    "        t1 = time.time()\n",
    "        total = t1-t0\n",
    "        print(\"search time used: \"+ str(total))    \n",
    "        processPost(result, word)\n",
    "    \n",
    "    "
   ]
  },
  {
   "cell_type": "code",
   "execution_count": 11,
   "metadata": {},
   "outputs": [],
   "source": [
    "def searchTag(hashtag):\n",
    "    t0 = time.time()\n",
    "    \n",
    "    df = cache.get(hashtag)\n",
    "    if type(df) != int:\n",
    "        cache.put(hashtag, df)\n",
    "        t1 = time.time()\n",
    "        total = t1-t0\n",
    "        print(\"search time used: \"+ str(total)+\"\\n\")\n",
    "        #show only 5 ouputs if df includes more than 5 \n",
    "        l=len(df.index)\n",
    "        i=0\n",
    "        if l<=5:\n",
    "            print(df)\n",
    "        else:\n",
    "            while i+5<l:\n",
    "                print(df[i:i+5])\n",
    "                i=i+5\n",
    "                statement = input(\"Displaying 5 results with total \"+str(l)+\n",
    "                                 \" results, enter 0 to exit, enter any other key to see more.\\n\")\n",
    "                if statement == '0':\n",
    "                    break\n",
    "            print(df[i:l])\n",
    "\n",
    "        \n",
    "    \n",
    "    else:\n",
    "        res = []\n",
    "        myquery = {\"hashtag\": hashtag}\n",
    "        mydoc = mycol.find(myquery).sort(\"retweet_count\", -1)\n",
    "\n",
    "        for y in mydoc:\n",
    "            res.append(y)\n",
    "\n",
    "        if res:\n",
    "            t1 = time.time()\n",
    "            total = t1-t0\n",
    "            print(\"search time used: \"+ str(total))\n",
    "            processPost(res, hashtag)\n",
    "        else:\n",
    "            print(\"No tweets relates to this hashtag\")"
   ]
  },
  {
   "cell_type": "code",
   "execution_count": 12,
   "metadata": {},
   "outputs": [],
   "source": [
    "def validate(date_text):\n",
    "    try:\n",
    "        datetime.strptime(date_text, \"%Y-%m-%d\")\n",
    "    except ValueError:\n",
    "        raise ValueError(\"Incorrect data format, please use YYYY-MM-DD\")\n",
    "        \n",
    "def searchtime(beginning, ending):\n",
    "    t0 = time.time()\n",
    "    res = []\n",
    "    \n",
    "    #validate if user input correct format of date\n",
    "    validate(beginning)\n",
    "    validate(ending)\n",
    "    \n",
    "    beginning = beginning + str(\" 00:00:00\")\n",
    "    ending = ending + str(\" 23:59:59\")\n",
    "    myquery = {\"created_at\": {\n",
    "        \"$gte\": beginning,\n",
    "        \"$lte\": ending\n",
    "    } \n",
    "    }\n",
    "    mydoc = mycol.find(myquery).sort(\"created_at\", -1)\n",
    "    \n",
    "    for i in mydoc:\n",
    "        res.append(i)\n",
    "    \n",
    "    t1 = time.time()\n",
    "    total = t1-t0\n",
    "    print(\"search time used: \"+ str(total))\n",
    "    processPost(res,)\n"
   ]
  },
  {
   "cell_type": "code",
   "execution_count": 22,
   "metadata": {},
   "outputs": [
    {
     "ename": "SyntaxError",
     "evalue": "'break' outside loop (<ipython-input-22-86377757868b>, line 20)",
     "output_type": "error",
     "traceback": [
      "\u001b[0;36m  File \u001b[0;32m\"<ipython-input-22-86377757868b>\"\u001b[0;36m, line \u001b[0;32m20\u001b[0m\n\u001b[0;31m    \"description\",\"followers_count\",\"friends_count\",\u001b[0m\n\u001b[0m    ^\u001b[0m\n\u001b[0;31mSyntaxError\u001b[0m\u001b[0;31m:\u001b[0m 'break' outside loop\n"
     ]
    }
   ],
   "source": [
    "def searchUser(name):\n",
    "    t0 = time.time()\n",
    "    \n",
    "    name_1 = name + \"1\"\n",
    "    df = cache.get(name_1)\n",
    "    if type(df) != int:\n",
    "        cache.put(name_1, df)\n",
    "        print(df)\n",
    "    else:\n",
    "        result=[]\n",
    "        #get user info\n",
    "        sql = \"SELECT * FROM user WHERE (user_id = %s) OR (name = %s) OR (screen_name = %s);\"\n",
    "        val=(name,name,name)\n",
    "        mycursor.execute(sql, val)\n",
    "        myresult = mycursor.fetchall()\n",
    "        x=myresult[0]\n",
    "        df = pd.DataFrame([list(x),], columns =[\"id\", \"name\", \"screen_name\", \"location\",\n",
    "                                                \"description\",\"followers_count\",\"friends_count\",\n",
    "                                                \"listed_count\",\"favourites_count\",\"statuses_count\",\"created_at\"])\n",
    "        cache.put(name_1, df)\n",
    "        print(df)\n",
    "    \n",
    "    #get user posts\n",
    "    name_2 = name + \"2\"\n",
    "    df2 = cache.get(name_2)\n",
    "    if type(df2) != int:\n",
    "        cache.put(name_2, df2)\n",
    "        print(df2)\n",
    "    else:\n",
    "        user_id=str(x[0])\n",
    "        sql = \"SELECT * FROM post WHERE (user_id= %s) ORDER BY created_at DESC;\"\n",
    "        val = (user_id,)\n",
    "        mycursor.execute(sql, val)\n",
    "        myresult = mycursor.fetchall()\n",
    "\n",
    "        for x in myresult:\n",
    "            myquery = { \"_id\": int(x[1]) }\n",
    "            mydoc = mycol.find(myquery)\n",
    "            for y in mydoc:\n",
    "                result.append(y)\n",
    "\n",
    "        t1 = time.time()\n",
    "        total = t1-t0\n",
    "        print(\"search time used: \"+ str(total))\n",
    "        processPost(result, name_2)\n",
    "    \n",
    "    "
   ]
  },
  {
   "cell_type": "code",
   "execution_count": 23,
   "metadata": {},
   "outputs": [],
   "source": [
    "def search():\n",
    "    while True:\n",
    "        statement = input(\"For user search, enter 1\\n\"+\"For tweet search, enter 2\\n\"+\n",
    "                          \"For hashtag search, enter 3\\n\"+\"For time range search, enter 4\\n\"+\n",
    "                          \"To exit, enter 0\\n\")\n",
    "        if(statement=='0'):\n",
    "            print(\"Exit\")\n",
    "            break\n",
    "        elif(statement=='1'):\n",
    "            statement = input(\"Please enter the user name, screen name, or id:\\n\")\n",
    "            searchUser(statement)\n",
    "            break\n",
    "        elif(statement=='2'):\n",
    "            statement = input(\"Please enter the keyword:\\n\")\n",
    "            searchWord(statement)\n",
    "            break\n",
    "        elif(statement=='3'):\n",
    "            statement = input(\"Please enter the hashtag:\\n\")\n",
    "            searchTag(statement)\n",
    "            break\n",
    "        elif(statement=='4'):\n",
    "            statement1 = input(\"Please enter the begine time in format YYYY-MM-DD:\\n\")\n",
    "            statement2 = input(\"Please enter the end time in format YYYY-MM-DD:\\n\")\n",
    "            searchtime(statement1,statement2)\n",
    "            break\n",
    "        else:\n",
    "            print(\"invalid input\")"
   ]
  },
  {
   "cell_type": "code",
   "execution_count": 42,
   "metadata": {
    "scrolled": false
   },
   "outputs": [
    {
     "name": "stdout",
     "output_type": "stream",
     "text": [
      "For user search, enter 1\n",
      "For tweet search, enter 2\n",
      "For hashtag search, enter 3\n",
      "For time range search, enter 4\n",
      "To exit, enter 0\n",
      "4\n",
      "Please enter the begine time in format YYYY-MM-DD:\n",
      "2021-04-19\n",
      "Please enter the end time in format YYYY-MM-DD:\n",
      "2021-04-20\n",
      "search time used: 0.01265096664428711\n"
     ]
    },
    {
     "ename": "TypeError",
     "evalue": "processPost() missing 1 required positional argument: 'key'",
     "output_type": "error",
     "traceback": [
      "\u001b[0;31m---------------------------------------------------------------------------\u001b[0m",
      "\u001b[0;31mTypeError\u001b[0m                                 Traceback (most recent call last)",
      "\u001b[0;32m<ipython-input-42-5a2c6e8a5986>\u001b[0m in \u001b[0;36m<module>\u001b[0;34m\u001b[0m\n\u001b[0;32m----> 1\u001b[0;31m \u001b[0msearch\u001b[0m\u001b[0;34m(\u001b[0m\u001b[0;34m)\u001b[0m\u001b[0;34m\u001b[0m\u001b[0;34m\u001b[0m\u001b[0m\n\u001b[0m",
      "\u001b[0;32m<ipython-input-23-a2cfecd1adff>\u001b[0m in \u001b[0;36msearch\u001b[0;34m()\u001b[0m\n\u001b[1;32m     22\u001b[0m             \u001b[0mstatement1\u001b[0m \u001b[0;34m=\u001b[0m \u001b[0minput\u001b[0m\u001b[0;34m(\u001b[0m\u001b[0;34m\"Please enter the begine time in format YYYY-MM-DD:\\n\"\u001b[0m\u001b[0;34m)\u001b[0m\u001b[0;34m\u001b[0m\u001b[0;34m\u001b[0m\u001b[0m\n\u001b[1;32m     23\u001b[0m             \u001b[0mstatement2\u001b[0m \u001b[0;34m=\u001b[0m \u001b[0minput\u001b[0m\u001b[0;34m(\u001b[0m\u001b[0;34m\"Please enter the end time in format YYYY-MM-DD:\\n\"\u001b[0m\u001b[0;34m)\u001b[0m\u001b[0;34m\u001b[0m\u001b[0;34m\u001b[0m\u001b[0m\n\u001b[0;32m---> 24\u001b[0;31m             \u001b[0msearchtime\u001b[0m\u001b[0;34m(\u001b[0m\u001b[0mstatement1\u001b[0m\u001b[0;34m,\u001b[0m\u001b[0mstatement2\u001b[0m\u001b[0;34m)\u001b[0m\u001b[0;34m\u001b[0m\u001b[0;34m\u001b[0m\u001b[0m\n\u001b[0m\u001b[1;32m     25\u001b[0m             \u001b[0;32mbreak\u001b[0m\u001b[0;34m\u001b[0m\u001b[0;34m\u001b[0m\u001b[0m\n\u001b[1;32m     26\u001b[0m         \u001b[0;32melse\u001b[0m\u001b[0;34m:\u001b[0m\u001b[0;34m\u001b[0m\u001b[0;34m\u001b[0m\u001b[0m\n",
      "\u001b[0;32m<ipython-input-12-be4e26451128>\u001b[0m in \u001b[0;36msearchtime\u001b[0;34m(beginning, ending)\u001b[0m\n\u001b[1;32m     28\u001b[0m     \u001b[0mtotal\u001b[0m \u001b[0;34m=\u001b[0m \u001b[0mt1\u001b[0m\u001b[0;34m-\u001b[0m\u001b[0mt0\u001b[0m\u001b[0;34m\u001b[0m\u001b[0;34m\u001b[0m\u001b[0m\n\u001b[1;32m     29\u001b[0m     \u001b[0mprint\u001b[0m\u001b[0;34m(\u001b[0m\u001b[0;34m\"search time used: \"\u001b[0m\u001b[0;34m+\u001b[0m \u001b[0mstr\u001b[0m\u001b[0;34m(\u001b[0m\u001b[0mtotal\u001b[0m\u001b[0;34m)\u001b[0m\u001b[0;34m)\u001b[0m\u001b[0;34m\u001b[0m\u001b[0;34m\u001b[0m\u001b[0m\n\u001b[0;32m---> 30\u001b[0;31m     \u001b[0mprocessPost\u001b[0m\u001b[0;34m(\u001b[0m\u001b[0mres\u001b[0m\u001b[0;34m)\u001b[0m\u001b[0;34m\u001b[0m\u001b[0;34m\u001b[0m\u001b[0m\n\u001b[0m",
      "\u001b[0;31mTypeError\u001b[0m: processPost() missing 1 required positional argument: 'key'"
     ]
    }
   ],
   "source": [
    "search()"
   ]
  },
  {
   "cell_type": "code",
   "execution_count": 57,
   "metadata": {},
   "outputs": [],
   "source": [
    "cache.clean()"
   ]
  },
  {
   "cell_type": "code",
   "execution_count": 34,
   "metadata": {},
   "outputs": [
    {
     "name": "stdout",
     "output_type": "stream",
     "text": [
      "For user search, enter 1\n",
      "For tweet search, enter 2\n",
      "For hashtag search, enter 3\n",
      "For time range search, enter 4\n",
      "To exit, enter 0\n",
      "2\n"
     ]
    },
    {
     "ename": "KeyboardInterrupt",
     "evalue": "",
     "output_type": "error",
     "traceback": [
      "\u001b[0;31m---------------------------------------------------------------------------\u001b[0m",
      "\u001b[0;31mKeyboardInterrupt\u001b[0m                         Traceback (most recent call last)",
      "\u001b[0;32m~/anaconda3/lib/python3.7/site-packages/ipykernel/kernelbase.py\u001b[0m in \u001b[0;36m_input_request\u001b[0;34m(self, prompt, ident, parent, password)\u001b[0m\n\u001b[1;32m    884\u001b[0m             \u001b[0;32mtry\u001b[0m\u001b[0;34m:\u001b[0m\u001b[0;34m\u001b[0m\u001b[0;34m\u001b[0m\u001b[0m\n\u001b[0;32m--> 885\u001b[0;31m                 \u001b[0mident\u001b[0m\u001b[0;34m,\u001b[0m \u001b[0mreply\u001b[0m \u001b[0;34m=\u001b[0m \u001b[0mself\u001b[0m\u001b[0;34m.\u001b[0m\u001b[0msession\u001b[0m\u001b[0;34m.\u001b[0m\u001b[0mrecv\u001b[0m\u001b[0;34m(\u001b[0m\u001b[0mself\u001b[0m\u001b[0;34m.\u001b[0m\u001b[0mstdin_socket\u001b[0m\u001b[0;34m,\u001b[0m \u001b[0;36m0\u001b[0m\u001b[0;34m)\u001b[0m\u001b[0;34m\u001b[0m\u001b[0;34m\u001b[0m\u001b[0m\n\u001b[0m\u001b[1;32m    886\u001b[0m             \u001b[0;32mexcept\u001b[0m \u001b[0mException\u001b[0m\u001b[0;34m:\u001b[0m\u001b[0;34m\u001b[0m\u001b[0;34m\u001b[0m\u001b[0m\n",
      "\u001b[0;32m~/anaconda3/lib/python3.7/site-packages/jupyter_client/session.py\u001b[0m in \u001b[0;36mrecv\u001b[0;34m(self, socket, mode, content, copy)\u001b[0m\n\u001b[1;32m    802\u001b[0m         \u001b[0;32mtry\u001b[0m\u001b[0;34m:\u001b[0m\u001b[0;34m\u001b[0m\u001b[0;34m\u001b[0m\u001b[0m\n\u001b[0;32m--> 803\u001b[0;31m             \u001b[0mmsg_list\u001b[0m \u001b[0;34m=\u001b[0m \u001b[0msocket\u001b[0m\u001b[0;34m.\u001b[0m\u001b[0mrecv_multipart\u001b[0m\u001b[0;34m(\u001b[0m\u001b[0mmode\u001b[0m\u001b[0;34m,\u001b[0m \u001b[0mcopy\u001b[0m\u001b[0;34m=\u001b[0m\u001b[0mcopy\u001b[0m\u001b[0;34m)\u001b[0m\u001b[0;34m\u001b[0m\u001b[0;34m\u001b[0m\u001b[0m\n\u001b[0m\u001b[1;32m    804\u001b[0m         \u001b[0;32mexcept\u001b[0m \u001b[0mzmq\u001b[0m\u001b[0;34m.\u001b[0m\u001b[0mZMQError\u001b[0m \u001b[0;32mas\u001b[0m \u001b[0me\u001b[0m\u001b[0;34m:\u001b[0m\u001b[0;34m\u001b[0m\u001b[0;34m\u001b[0m\u001b[0m\n",
      "\u001b[0;32m~/anaconda3/lib/python3.7/site-packages/zmq/sugar/socket.py\u001b[0m in \u001b[0;36mrecv_multipart\u001b[0;34m(self, flags, copy, track)\u001b[0m\n\u001b[1;32m    469\u001b[0m         \"\"\"\n\u001b[0;32m--> 470\u001b[0;31m         \u001b[0mparts\u001b[0m \u001b[0;34m=\u001b[0m \u001b[0;34m[\u001b[0m\u001b[0mself\u001b[0m\u001b[0;34m.\u001b[0m\u001b[0mrecv\u001b[0m\u001b[0;34m(\u001b[0m\u001b[0mflags\u001b[0m\u001b[0;34m,\u001b[0m \u001b[0mcopy\u001b[0m\u001b[0;34m=\u001b[0m\u001b[0mcopy\u001b[0m\u001b[0;34m,\u001b[0m \u001b[0mtrack\u001b[0m\u001b[0;34m=\u001b[0m\u001b[0mtrack\u001b[0m\u001b[0;34m)\u001b[0m\u001b[0;34m]\u001b[0m\u001b[0;34m\u001b[0m\u001b[0;34m\u001b[0m\u001b[0m\n\u001b[0m\u001b[1;32m    471\u001b[0m         \u001b[0;31m# have first part already, only loop while more to receive\u001b[0m\u001b[0;34m\u001b[0m\u001b[0;34m\u001b[0m\u001b[0;34m\u001b[0m\u001b[0m\n",
      "\u001b[0;32mzmq/backend/cython/socket.pyx\u001b[0m in \u001b[0;36mzmq.backend.cython.socket.Socket.recv\u001b[0;34m()\u001b[0m\n",
      "\u001b[0;32mzmq/backend/cython/socket.pyx\u001b[0m in \u001b[0;36mzmq.backend.cython.socket.Socket.recv\u001b[0;34m()\u001b[0m\n",
      "\u001b[0;32mzmq/backend/cython/socket.pyx\u001b[0m in \u001b[0;36mzmq.backend.cython.socket._recv_copy\u001b[0;34m()\u001b[0m\n",
      "\u001b[0;32m~/anaconda3/lib/python3.7/site-packages/zmq/backend/cython/checkrc.pxd\u001b[0m in \u001b[0;36mzmq.backend.cython.checkrc._check_rc\u001b[0;34m()\u001b[0m\n",
      "\u001b[0;31mKeyboardInterrupt\u001b[0m: ",
      "\nDuring handling of the above exception, another exception occurred:\n",
      "\u001b[0;31mKeyboardInterrupt\u001b[0m                         Traceback (most recent call last)",
      "\u001b[0;32m<ipython-input-34-f9298df599d9>\u001b[0m in \u001b[0;36m<module>\u001b[0;34m\u001b[0m\n\u001b[1;32m      1\u001b[0m \u001b[0;32mif\u001b[0m \u001b[0m__name__\u001b[0m \u001b[0;34m==\u001b[0m \u001b[0;34m\"__main__\"\u001b[0m\u001b[0;34m:\u001b[0m\u001b[0;34m\u001b[0m\u001b[0;34m\u001b[0m\u001b[0m\n\u001b[0;32m----> 2\u001b[0;31m     \u001b[0mmain\u001b[0m\u001b[0;34m(\u001b[0m\u001b[0;34m)\u001b[0m\u001b[0;34m\u001b[0m\u001b[0;34m\u001b[0m\u001b[0m\n\u001b[0m\u001b[1;32m      3\u001b[0m \u001b[0;34m\u001b[0m\u001b[0m\n\u001b[1;32m      4\u001b[0m \u001b[0;34m\u001b[0m\u001b[0m\n",
      "\u001b[0;32m<ipython-input-8-86c141e17c9d>\u001b[0m in \u001b[0;36mmain\u001b[0;34m()\u001b[0m\n\u001b[1;32m      2\u001b[0m     \u001b[0;32mglobal\u001b[0m \u001b[0mcache\u001b[0m\u001b[0;34m\u001b[0m\u001b[0;34m\u001b[0m\u001b[0m\n\u001b[1;32m      3\u001b[0m     \u001b[0mcache\u001b[0m \u001b[0;34m=\u001b[0m \u001b[0mCache\u001b[0m\u001b[0;34m(\u001b[0m\u001b[0;36m10\u001b[0m\u001b[0;34m)\u001b[0m\u001b[0;34m\u001b[0m\u001b[0;34m\u001b[0m\u001b[0m\n\u001b[0;32m----> 4\u001b[0;31m     \u001b[0msearch\u001b[0m\u001b[0;34m(\u001b[0m\u001b[0;34m)\u001b[0m\u001b[0;34m\u001b[0m\u001b[0;34m\u001b[0m\u001b[0m\n\u001b[0m",
      "\u001b[0;32m<ipython-input-23-a2cfecd1adff>\u001b[0m in \u001b[0;36msearch\u001b[0;34m()\u001b[0m\n\u001b[1;32m     12\u001b[0m             \u001b[0;32mbreak\u001b[0m\u001b[0;34m\u001b[0m\u001b[0;34m\u001b[0m\u001b[0m\n\u001b[1;32m     13\u001b[0m         \u001b[0;32melif\u001b[0m\u001b[0;34m(\u001b[0m\u001b[0mstatement\u001b[0m\u001b[0;34m==\u001b[0m\u001b[0;34m'2'\u001b[0m\u001b[0;34m)\u001b[0m\u001b[0;34m:\u001b[0m\u001b[0;34m\u001b[0m\u001b[0;34m\u001b[0m\u001b[0m\n\u001b[0;32m---> 14\u001b[0;31m             \u001b[0mstatement\u001b[0m \u001b[0;34m=\u001b[0m \u001b[0minput\u001b[0m\u001b[0;34m(\u001b[0m\u001b[0;34m\"Please enter the keyword:\\n\"\u001b[0m\u001b[0;34m)\u001b[0m\u001b[0;34m\u001b[0m\u001b[0;34m\u001b[0m\u001b[0m\n\u001b[0m\u001b[1;32m     15\u001b[0m             \u001b[0msearchWord\u001b[0m\u001b[0;34m(\u001b[0m\u001b[0mstatement\u001b[0m\u001b[0;34m)\u001b[0m\u001b[0;34m\u001b[0m\u001b[0;34m\u001b[0m\u001b[0m\n\u001b[1;32m     16\u001b[0m             \u001b[0;32mbreak\u001b[0m\u001b[0;34m\u001b[0m\u001b[0;34m\u001b[0m\u001b[0m\n",
      "\u001b[0;32m~/anaconda3/lib/python3.7/site-packages/ipykernel/kernelbase.py\u001b[0m in \u001b[0;36mraw_input\u001b[0;34m(self, prompt)\u001b[0m\n\u001b[1;32m    858\u001b[0m             \u001b[0mself\u001b[0m\u001b[0;34m.\u001b[0m\u001b[0m_parent_ident\u001b[0m\u001b[0;34m,\u001b[0m\u001b[0;34m\u001b[0m\u001b[0;34m\u001b[0m\u001b[0m\n\u001b[1;32m    859\u001b[0m             \u001b[0mself\u001b[0m\u001b[0;34m.\u001b[0m\u001b[0m_parent_header\u001b[0m\u001b[0;34m,\u001b[0m\u001b[0;34m\u001b[0m\u001b[0;34m\u001b[0m\u001b[0m\n\u001b[0;32m--> 860\u001b[0;31m             \u001b[0mpassword\u001b[0m\u001b[0;34m=\u001b[0m\u001b[0;32mFalse\u001b[0m\u001b[0;34m,\u001b[0m\u001b[0;34m\u001b[0m\u001b[0;34m\u001b[0m\u001b[0m\n\u001b[0m\u001b[1;32m    861\u001b[0m         )\n\u001b[1;32m    862\u001b[0m \u001b[0;34m\u001b[0m\u001b[0m\n",
      "\u001b[0;32m~/anaconda3/lib/python3.7/site-packages/ipykernel/kernelbase.py\u001b[0m in \u001b[0;36m_input_request\u001b[0;34m(self, prompt, ident, parent, password)\u001b[0m\n\u001b[1;32m    888\u001b[0m             \u001b[0;32mexcept\u001b[0m \u001b[0mKeyboardInterrupt\u001b[0m\u001b[0;34m:\u001b[0m\u001b[0;34m\u001b[0m\u001b[0;34m\u001b[0m\u001b[0m\n\u001b[1;32m    889\u001b[0m                 \u001b[0;31m# re-raise KeyboardInterrupt, to truncate traceback\u001b[0m\u001b[0;34m\u001b[0m\u001b[0;34m\u001b[0m\u001b[0;34m\u001b[0m\u001b[0m\n\u001b[0;32m--> 890\u001b[0;31m                 \u001b[0;32mraise\u001b[0m \u001b[0mKeyboardInterrupt\u001b[0m\u001b[0;34m\u001b[0m\u001b[0;34m\u001b[0m\u001b[0m\n\u001b[0m\u001b[1;32m    891\u001b[0m             \u001b[0;32melse\u001b[0m\u001b[0;34m:\u001b[0m\u001b[0;34m\u001b[0m\u001b[0;34m\u001b[0m\u001b[0m\n\u001b[1;32m    892\u001b[0m                 \u001b[0;32mbreak\u001b[0m\u001b[0;34m\u001b[0m\u001b[0;34m\u001b[0m\u001b[0m\n",
      "\u001b[0;31mKeyboardInterrupt\u001b[0m: "
     ]
    }
   ],
   "source": [
    "if __name__ == \"__main__\":\n",
    "    main()\n",
    "    \n",
    "    "
   ]
  },
  {
   "cell_type": "code",
   "execution_count": 63,
   "metadata": {},
   "outputs": [],
   "source": [
    "myclient.close()"
   ]
  },
  {
   "cell_type": "code",
   "execution_count": 64,
   "metadata": {},
   "outputs": [
    {
     "data": {
      "text/plain": [
       "True"
      ]
     },
     "execution_count": 64,
     "metadata": {},
     "output_type": "execute_result"
    }
   ],
   "source": [
    "mycursor.close()"
   ]
  },
  {
   "cell_type": "markdown",
   "metadata": {},
   "source": [
    "# Caching"
   ]
  },
  {
   "cell_type": "code",
   "execution_count": 16,
   "metadata": {},
   "outputs": [],
   "source": [
    "from collections import deque\n",
    "class Cache:\n",
    "    def __init__(self, capacity=10):\n",
    "        self._capacity = capacity\n",
    "        self._dict = {}\n",
    "        self._queue = deque([])\n",
    "    \n",
    "    def queue_update(self, key):\n",
    "        #update queue\n",
    "        if key in self._queue:\n",
    "            self._queue.remove(key)\n",
    "        self._queue.append(key)\n",
    "    \n",
    "    def get(self, key):\n",
    "        self.queue_update(key)\n",
    "        return self._dict.get(key, -1) # return -1 if not in cache\n",
    "    \n",
    "    def put(self, key, value):\n",
    "        \n",
    "        if key in self._dict.keys(): #if already exist\n",
    "            self.queue_update(key)\n",
    "        elif len(self._dict)>=self._capacity: #if not exist but over the capacity\n",
    "            LRU = self._queue.popleft()\n",
    "            del self._dict[LRU]\n",
    "        else: #new key value pair\n",
    "            self._queue.append(key)\n",
    "            self._dict[key] = value\n",
    "    \n",
    "    def clean(self):\n",
    "        self._dict.clear()\n",
    "        \n",
    "    def print_keys(self):\n",
    "        keys = self._dict.keys()\n",
    "        return keys\n",
    "        "
   ]
  },
  {
   "cell_type": "code",
   "execution_count": 35,
   "metadata": {},
   "outputs": [],
   "source": [
    "cache.clean()"
   ]
  },
  {
   "cell_type": "code",
   "execution_count": 36,
   "metadata": {},
   "outputs": [
    {
     "data": {
      "text/plain": [
       "dict_keys([])"
      ]
     },
     "execution_count": 36,
     "metadata": {},
     "output_type": "execute_result"
    }
   ],
   "source": [
    "cache.print_keys()"
   ]
  },
  {
   "cell_type": "code",
   "execution_count": null,
   "metadata": {},
   "outputs": [],
   "source": []
  }
 ],
 "metadata": {
  "kernelspec": {
   "display_name": "Python 3",
   "language": "python",
   "name": "python3"
  },
  "language_info": {
   "codemirror_mode": {
    "name": "ipython",
    "version": 3
   },
   "file_extension": ".py",
   "mimetype": "text/x-python",
   "name": "python",
   "nbconvert_exporter": "python",
   "pygments_lexer": "ipython3",
   "version": "3.7.3"
  }
 },
 "nbformat": 4,
 "nbformat_minor": 2
}
